{
 "cells": [
  {
   "cell_type": "code",
   "execution_count": 7,
   "metadata": {},
   "outputs": [],
   "source": [
    "import time\n",
    "from time import sleep\n",
    "from bs4 import BeautifulSoup\n",
    "from selenium import webdriver\n",
    "from selenium.webdriver.support.wait import WebDriverWait\n",
    "from selenium.webdriver.support import expected_conditions as EC\n",
    "from selenium.webdriver.chrome.options import Options\n",
    "from selenium.webdriver.common.by import By\n",
    "from selenium.webdriver.common.keys import Keys\n",
    "from selenium.webdriver.common.action_chains import ActionChains\n",
    "\n",
    "from datetime import datetime\n",
    "from datetime import timedelta\n",
    "\n",
    "import re\n",
    "import pandas as pd\n",
    "\n",
    "import numpy as np\n",
    "import socket\n",
    "\n",
    "import os\n",
    "import csv, operator\n",
    "import unidecode\n",
    "from random import randint"
   ]
  },
  {
   "cell_type": "code",
   "execution_count": 8,
   "metadata": {},
   "outputs": [
    {
     "data": {
      "text/plain": [
       "105"
      ]
     },
     "execution_count": 8,
     "metadata": {},
     "output_type": "execute_result"
    }
   ],
   "source": [
    "cwd = os.getcwd()\n",
    "read_date=(datetime.now() .strftime('%Y-%m-%d'))\n",
    "read_time = time.strftime(\"%H:%M:%S\")\n",
    "date_file=((datetime.now()) .strftime('%Y%m%d%H%M'))\n",
    "csvsalida = open(cwd+'/output/funda_purchase_'+date_file+'_out.csv', 'w', newline='')\n",
    "salida = csv.writer(csvsalida, delimiter='|', quotechar='\"', quoting=csv.QUOTE_ALL)\n",
    "salida.writerow(['read_date', 'read_time','address','zip_code','price','living_surface',\"parcel_surface\",'rooms', \"broker\"])"
   ]
  },
  {
   "cell_type": "code",
   "execution_count": 9,
   "metadata": {},
   "outputs": [],
   "source": [
    "cities = [\"amsterdam\", \"rotterdam\", \"den-haag\", \"utrecht\", \"eindhoven\"]\n",
    "trx = [\"koop\", \"huur\"]"
   ]
  },
  {
   "cell_type": "code",
   "execution_count": 10,
   "metadata": {},
   "outputs": [],
   "source": [
    "url =\"https://www.funda.nl/koop/amsterdam/\"\n",
    "chrome_options = Options() \n",
    "driver = webdriver.Chrome(chrome_options=chrome_options) \n",
    "driver.get(url)\n",
    "sleep(5)"
   ]
  },
  {
   "cell_type": "code",
   "execution_count": 11,
   "metadata": {},
   "outputs": [],
   "source": [
    "for trx_type in trx:\n",
    "    for city in cities:\n",
    "        url =\"https://www.funda.nl/\"+trx_type+\"/\"+city+\"/\"\n",
    "        try:\n",
    "            driver.get(url)\n",
    "        except:\n",
    "            chrome_options = Options() \n",
    "            driver = webdriver.Chrome(chrome_options=chrome_options) \n",
    "            driver.get(url)\n",
    "        sleep(5)\n",
    "        try:\n",
    "            accept_cookies = driver.find_element_by_xpath(\"//*[@id='onetrust-accept-btn-handler']\")\n",
    "            accept_cookies.click()\n",
    "            sleep(2)\n",
    "        except:\n",
    "            pass\n",
    "        \n",
    "        keep_looping = 1\n",
    "        first_page = 1\n",
    "        while keep_looping == 1:\n",
    "            soup=BeautifulSoup(driver.page_source,'lxml')\n",
    "            listings = soup.findAll(\"div\", class_= \"search-result-content-inner\")\n",
    "            for i in range(0, len(listings)):\n",
    "                try:\n",
    "                    address = listings[i].find(\"h2\", class_= \"search-result__header-title fd-m-none\").get_text().replace(\"\\t\", \"\").replace(\"\\n\", \"\").replace(\",\", \"\").strip()\n",
    "                    zip_code = listings[i].find(\"h4\", class_= \"search-result__header-subtitle fd-m-none\").get_text().replace(\"\\t\", \"\").replace(\"\\n\", \"\").replace(\",\", \"\").strip()\n",
    "                    price = listings[i].find(\"span\", class_= \"search-result-price\").get_text().replace(\"€ \" ,\"\").replace(\"€\" ,\"\").replace(\".\" ,\"\").replace(\",\" ,\".\")\n",
    "                    living_surface = listings[i].find(\"span\", title=\"Gebruiksoppervlakte wonen\").get_text().replace(\"\\t\", \"\").replace(\"\\n\", \"\").replace(\",\", \"\").strip()\n",
    "                    try:\n",
    "                        parcel_surface = listings[i].find(\"span\", title=\"Perceeloppervlakte\").get_text().replace(\"\\t\", \"\").replace(\"\\n\", \"\").replace(\",\", \"\").strip()\n",
    "                    except:\n",
    "                        parcel_surface = \"-\"\n",
    "                    rooms_container = listings[i].find(\"ul\", class_= \"search-result-kenmerken\")\n",
    "                    room_container = rooms_container.findAll(\"li\")\n",
    "                    rooms = room_container[1].get_text().replace(\"\\t\", \"\").replace(\"\\n\", \"\").replace(\",\", \"\").strip()\n",
    "                    try:\n",
    "                        broker = listings[i].find(\"span\", class_=\"search-result-makelaar-name\").get_text().replace(\"\\t\", \"\").replace(\"\\n\", \"\").replace(\",\", \"\").strip()\n",
    "                    except:\n",
    "                        broker = \"-\"\n",
    "                    salida.writerow([read_date, read_time,address,zip_code,price,living_surface,parcel_surface,rooms, broker])\n",
    "                except:\n",
    "                    pass\n",
    "            try:\n",
    "                body_elem = driver.find_element_by_tag_name('body')\n",
    "                body_elem.send_keys(Keys.END)\n",
    "                for i in range(0,12): body_elem.send_keys(Keys.UP)\n",
    "                sleep(0.5)\n",
    "                for i in range(0,8): body_elem.send_keys(Keys.UP)  \n",
    "                sleep(2)\n",
    "                if first_page == 1:\n",
    "                    next_page = driver.find_element_by_xpath(\"//*[@id='content']/form/div[2]/nav/a[1]\")\n",
    "                else:\n",
    "                    next_page = driver.find_element_by_xpath(\"//*[@id='content']/form/div[2]/nav/a[2]\")\n",
    "                next_page.click()\n",
    "                first_page += 1\n",
    "                keep_looping = 1\n",
    "                sleep(2)\n",
    "            except:\n",
    "                keep_looping = 0\n",
    "                pass\n",
    "\n",
    "del salida\n",
    "csvsalida.close()"
   ]
  }
 ],
 "metadata": {
  "kernelspec": {
   "display_name": "Python 3",
   "language": "python",
   "name": "python3"
  },
  "language_info": {
   "codemirror_mode": {
    "name": "ipython",
    "version": 3
   },
   "file_extension": ".py",
   "mimetype": "text/x-python",
   "name": "python",
   "nbconvert_exporter": "python",
   "pygments_lexer": "ipython3",
   "version": "3.7.1"
  }
 },
 "nbformat": 4,
 "nbformat_minor": 4
}
